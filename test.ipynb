{
 "cells": [
  {
   "cell_type": "markdown",
   "id": "70f295ea",
   "metadata": {},
   "source": [
    "Розгалуження\n",
    "- вибір через оператори"
   ]
  },
  {
   "cell_type": "code",
   "execution_count": 2,
   "id": "d8141641",
   "metadata": {},
   "outputs": [
    {
     "name": "stdout",
     "output_type": "stream",
     "text": [
      "None\n",
      "0\n",
      "False\n",
      "\n",
      "[]\n",
      "{}\n"
     ]
    }
   ],
   "source": [
    "for f in [None, 0, False, \"\", [], {}]:\n",
    "    print(f)\n",
    "    if f:\n",
    "        print(\"it will never execute\")"
   ]
  },
  {
   "cell_type": "code",
   "execution_count": 10,
   "id": "db516fb6",
   "metadata": {},
   "outputs": [
    {
     "name": "stdout",
     "output_type": "stream",
     "text": [
      "it will always execute\n",
      "It will be true\n",
      "\n",
      "It will be false\n"
     ]
    }
   ],
   "source": [
    "p = [5]\n",
    "if p:\n",
    "    print(\"it will always execute\")\n",
    "p.pop()\n",
    "if p:\n",
    "    print(\"it will never execute\")\n",
    "\n",
    "\n",
    "h = len(p) > 0 or \"It will be true\"\n",
    "print(h)\n",
    "\n",
    "print()\n",
    "l = [\"It will be false\", \"It will be true\"]\n",
    "print(l[False])"
   ]
  },
  {
   "cell_type": "code",
   "execution_count": 12,
   "id": "2ff4ff86",
   "metadata": {},
   "outputs": [
    {
     "name": "stdout",
     "output_type": "stream",
     "text": [
      "1. It will always execute\n",
      "2. it will always execute\n"
     ]
    },
    {
     "data": {
      "text/plain": [
       "list"
      ]
     },
     "execution_count": 12,
     "metadata": {},
     "output_type": "execute_result"
    }
   ],
   "source": [
    "if False:\n",
    "    pass\n",
    "else:\n",
    "    print(\"1. It will always execute\")\n",
    "    \n",
    "i = [print(\"2. it will always execute\") if False else print(\"2. it will always execute\")]\n",
    "type(i)"
   ]
  },
  {
   "cell_type": "markdown",
   "id": "4d682041",
   "metadata": {},
   "source": [
    "Комбінація циклів умов"
   ]
  },
  {
   "cell_type": "code",
   "execution_count": 13,
   "id": "92a980e8",
   "metadata": {},
   "outputs": [
    {
     "name": "stdout",
     "output_type": "stream",
     "text": [
      "0 is even\n",
      "1 is odd\n",
      "2 is even\n",
      "3 is odd\n",
      "4 is even\n",
      "0 is even\n",
      "2 is even\n",
      "4 is even\n"
     ]
    }
   ],
   "source": [
    "for i in range(5):\n",
    "    if i % 2 == 0:\n",
    "        print(f\"{i} is even\")\n",
    "    else:\n",
    "        print(f\"{i} is odd\")\n",
    "        \n",
    "i = [print(f\"{i} is even\") for i in range(5) if i % 2 == 0]"
   ]
  },
  {
   "cell_type": "markdown",
   "id": "4a8348de",
   "metadata": {},
   "source": [
    "### Виловлювання помилок\n",
    "- використовується коли помилка залежить від зовн. чинників, або існеє імовірність їх виникнення (код не завжди видає помилку)\n",
    "- except - типу опрацьовувач помилки (якщо помилка виникнула то можливо потрібен інший код для коректної роботи)"
   ]
  },
  {
   "cell_type": "code",
   "execution_count": 29,
   "id": "8654b3ff",
   "metadata": {},
   "outputs": [
    {
     "name": "stdout",
     "output_type": "stream",
     "text": [
      "this code will execute cuz it didnt raise an exception\n",
      "i is 0, k is 0\n",
      "The error division by zero has appeared cuz k was 0\n",
      "j is now 1\n",
      "\n",
      "i is 1, k is 1\n",
      "j is now 2.0\n",
      "\n",
      "i is 2, k is 1\n",
      "j is now 3.0\n",
      "\n",
      "i is 3, k is 0\n",
      "The error division by zero has appeared cuz k was 0\n",
      "j is now 1\n",
      "\n",
      "i is 4, k is 1\n",
      "j is now 5.0\n",
      "\n",
      "i is 5, k is 1\n",
      "j is now 6.0\n",
      "\n",
      "i is 6, k is 1\n",
      "j is now 7.0\n",
      "\n",
      "i is 7, k is 0\n",
      "The error division by zero has appeared cuz k was 0\n",
      "j is now 1\n",
      "\n",
      "i is 8, k is 0\n",
      "The error division by zero has appeared cuz k was 0\n",
      "j is now 1\n",
      "\n",
      "i is 9, k is 1\n",
      "j is now 10.0\n",
      "\n"
     ]
    }
   ],
   "source": [
    "import random\n",
    "print(\"this code will execute cuz it didnt raise an exception\")\n",
    "e = None\n",
    "p = 2\n",
    "for i in range(10):\n",
    "    k = random.randint(0, 1)\n",
    "    print(f\"i is {i}, k is {k}\")\n",
    "    try:\n",
    "        j = i/k\n",
    "    except Exception as e:\n",
    "        j = 0\n",
    "        print(f\"The error {e} has appeared cuz k was {k}\")\n",
    "    finally:\n",
    "        j += 1\n",
    "        print(f\"j is now {j}\")\n",
    "    print()"
   ]
  },
  {
   "cell_type": "code",
   "execution_count": null,
   "id": "c013e106",
   "metadata": {},
   "outputs": [],
   "source": []
  }
 ],
 "metadata": {
  "kernelspec": {
   "display_name": "Python 3",
   "language": "python",
   "name": "python3"
  },
  "language_info": {
   "codemirror_mode": {
    "name": "ipython",
    "version": 3
   },
   "file_extension": ".py",
   "mimetype": "text/x-python",
   "name": "python",
   "nbconvert_exporter": "python",
   "pygments_lexer": "ipython3",
   "version": "3.13.7"
  }
 },
 "nbformat": 4,
 "nbformat_minor": 5
}
