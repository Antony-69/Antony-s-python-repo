{
 "cells": [
  {
   "cell_type": "markdown",
   "id": "e71aa68f",
   "metadata": {},
   "source": [
    "# My first programm \n",
    "\n",
    "> [!WARN]\n",
    "> you have to know python for this"
   ]
  },
  {
   "cell_type": "code",
   "execution_count": 2,
   "id": "1c3d62e2",
   "metadata": {},
   "outputs": [
    {
     "name": "stdout",
     "output_type": "stream",
     "text": [
      "My fisrt python program\n",
      "It is outrageous!\n"
     ]
    }
   ],
   "source": [
    "print(\"My fisrt python program\")\n",
    "print(\"It is outrageous!\")"
   ]
  },
  {
   "cell_type": "code",
   "execution_count": 5,
   "id": "22d77cea",
   "metadata": {},
   "outputs": [],
   "source": [
    "name = \"Antony\""
   ]
  },
  {
   "cell_type": "code",
   "execution_count": 4,
   "id": "479991dc",
   "metadata": {},
   "outputs": [],
   "source": [
    "name = input(\"Enter your name: \")"
   ]
  }
 ],
 "metadata": {
  "kernelspec": {
   "display_name": "Python 3",
   "language": "python",
   "name": "python3"
  },
  "language_info": {
   "codemirror_mode": {
    "name": "ipython",
    "version": 3
   },
   "file_extension": ".py",
   "mimetype": "text/x-python",
   "name": "python",
   "nbconvert_exporter": "python",
   "pygments_lexer": "ipython3",
   "version": "3.13.7"
  }
 },
 "nbformat": 4,
 "nbformat_minor": 5
}
